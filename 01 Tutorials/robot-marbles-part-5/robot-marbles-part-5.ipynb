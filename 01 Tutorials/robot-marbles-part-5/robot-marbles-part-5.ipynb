{
 "cells": [
  {
   "cell_type": "markdown",
   "metadata": {},
   "source": [
    "# cadCAD Tutorials: The Robot and the Marbles Part 5 - Networks\n",
    "\n",
    "To expand upon our previous examples, we will introduce the concept of using a graph network object that is updated during each state update. The ability to essential embed a graph 'database' into a state is a game changer for scalability, allowing increased complexity with multiple agents or components is represented, easily updated. Below, building upon our previous examples, we will represent the Robots and Marbles example with n boxes, and a variable number of marbles. \n",
    "\n",
    "## Behavior and Mechanisms:\n",
    "* A network of robotic arms is capable of taking a marble from their one of their boxes and dropping it into the other one. \n",
    "* Each robotic arm in the network only controls two boxes and they act by moving a marble from one box to the other.\n",
    "* Each robotic arm is programmed to take one marble at a time from the box containing the most significant number of marbles and drop it in the other box. It repeats that process until the boxes contain an equal number of marbles.\n",
    "* For our analysis of this system, suppose we are only interested in monitoring the number of marbles in only their two boxes."
   ]
  },
  {
   "cell_type": "code",
   "execution_count": 1,
   "metadata": {},
   "outputs": [],
   "source": [
    "from cadCAD.engine import ExecutionMode, ExecutionContext, Executor\n",
    "from cadCAD.configuration import Configuration\n",
    "import networkx as nx\n",
    "import matplotlib.pyplot as plt\n",
    "import numpy as np\n",
    "import pandas as pd\n",
    "seed = 12302\n",
    "#from copy import deepcopy\n",
    "np.random.seed(seed)\n",
    "\n",
    "%matplotlib inline\n",
    "\n",
    "# define global variables\n",
    "T = 25 #iterations in our simulation\n",
    "boxes=5 #number of boxes in our network\n",
    "m= 2 #for barabasi graph type number of edges is (n-2)*m"
   ]
  },
  {
   "cell_type": "markdown",
   "metadata": {},
   "source": [
    "We create a [Barabási–Albert](https://en.wikipedia.org/wiki/Barab%C3%A1si%E2%80%93Albert_model) graph and then fill the 5 boxes with between 1 and 10 balls. You can create as many different nodes or types of nodes as needed"
   ]
  },
  {
   "cell_type": "code",
   "execution_count": 2,
   "metadata": {},
   "outputs": [],
   "source": [
    "# create graph object with the number of boxes as nodes\n",
    "network = nx.barabasi_albert_graph(boxes, m, seed=seed)\n",
    "\n",
    "# add balls to box nodes\n",
    "for node in network.nodes:\n",
    "    network.nodes[node]['balls'] = np.random.randint(1,10)"
   ]
  },
  {
   "cell_type": "code",
   "execution_count": 3,
   "metadata": {},
   "outputs": [],
   "source": [
    "# we initialize the cadCAD state as a network object\n",
    "# we add state variables for metrics of the graph we're interested in\n",
    "initial_conditions = {'network':network, 'size':network.number_of_nodes(), 'center':nx.center(network)}"
   ]
  },
  {
   "cell_type": "code",
   "execution_count": 4,
   "metadata": {},
   "outputs": [],
   "source": [
    "#Behavior: node by edge dimensional operator\n",
    "#input the states of the boxes output the deltas along the edges\n",
    "\n",
    "# We specify the robotic networks logic in a Policy/Behavior Function\n",
    "# unlike previous examples our policy controls a vector valued action, defined over the edges of our network\n",
    "def robotic_network(params, step, sL, s):\n",
    "    network = s['network']\n",
    "    delta_balls = {}\n",
    "    for e in network.edges:\n",
    "        src = e[0]\n",
    "        dst = e[1]\n",
    "        #transfer one ball across the edge in the direction of more balls to less\n",
    "        delta_balls[e] = np.sign(network.nodes[src]['balls']-network.nodes[dst]['balls'])\n",
    "    return({'delta': delta_balls})"
   ]
  },
  {
   "cell_type": "code",
   "execution_count": 5,
   "metadata": {},
   "outputs": [],
   "source": [
    "def grow_network(params, step, sL, s, _input):\n",
    "    network = s['network'] #deepcopy(s['network'])\n",
    "    new_node = network.number_of_nodes()\n",
    "    network.add_edge(new_node, np.random.randint(0,new_node))\n",
    "    network.nodes[new_node]['balls'] = np.random.randint(1,10)\n",
    "    return ('network', network)\n",
    "\n",
    "#mechanism: edge by node dimensional operator\n",
    "#input the deltas along the edges and update the boxes\n",
    "\n",
    "# We make the state update functions less \"intelligent\",\n",
    "# ie. they simply add the number of marbles specified in _input \n",
    "# (which, per the policy function definition, may be negative)\n",
    "\n",
    "def update_network(params, step, sL, s, _input):\n",
    "    network = s['network'] #deepcopy(s['network']) \n",
    "    delta_balls = _input['delta']\n",
    "    for e in network.edges:\n",
    "        move_ball = delta_balls[e]\n",
    "        src = e[0]\n",
    "        dst = e[1]\n",
    "        if (network.nodes[src]['balls'] >= move_ball) and (network.nodes[dst]['balls'] >= -move_ball):\n",
    "            network.nodes[src]['balls'] = network.nodes[src]['balls']-move_ball\n",
    "            network.nodes[dst]['balls'] = network.nodes[dst]['balls']+move_ball\n",
    "            \n",
    "    def delete_network(dic):\n",
    "        dic['network'] = None\n",
    "        return dic\n",
    "    sL[-1] = list(map(delete_network, sL[-1]))\n",
    "            \n",
    "    return ('network', network)\n",
    "\n",
    "def calculate_size(params, step, sL, s, _input):\n",
    "    return('size', s['network'].number_of_nodes())\n",
    "\n",
    "def calculate_center(params, step, sL, s, _input):\n",
    "    return('center', nx.center(s['network']))"
   ]
  },
  {
   "cell_type": "code",
   "execution_count": 6,
   "metadata": {},
   "outputs": [],
   "source": [
    "# wire up the mechanisms and states\n",
    "partial_state_update_blocks = [\n",
    "    { \n",
    "        'policies': { # The following policy functions will be evaluated and their returns will be passed to the state update functions\n",
    "        },\n",
    "        'variables': { # The following state variables will be updated simultaneously\n",
    "            'network': grow_network\n",
    "        }\n",
    "    },\n",
    "    { \n",
    "        'policies': { # The following policy functions will be evaluated and their returns will be passed to the state update functions\n",
    "            'action': robotic_network\n",
    "        },\n",
    "        'variables': { # The following state variables will be updated simultaneously\n",
    "            'network': update_network\n",
    "        }\n",
    "    },\n",
    "    { \n",
    "        'policies': { # The following policy functions will be evaluated and their returns will be passed to the state update functions\n",
    "        },\n",
    "        'variables': { # The following state variables will be updated simultaneously\n",
    "            'size': calculate_size,\n",
    "            'center': calculate_center\n",
    "        }\n",
    "    }\n",
    "]"
   ]
  },
  {
   "cell_type": "code",
   "execution_count": 7,
   "metadata": {},
   "outputs": [],
   "source": [
    "params= {\n",
    "    'network': [network]\n",
    "    }\n",
    "# # # # # # # # # # # # # # # # # # # # # # # # # # # # # # # # # # # # # # # # # # # # # # # # \n",
    "# Settings of general simulation parameters, unrelated to the system itself\n",
    "# `T` is a range with the number of discrete units of time the simulation will run for;\n",
    "# `N` is the number of times the simulation will be run (Monte Carlo runs)\n",
    "time_periods_per_run = 100\n",
    "monte_carlo_runs = 1\n",
    "\n",
    "from cadCAD.configuration.utils import config_sim\n",
    "simulation_parameters = config_sim({\n",
    "    'T': range(time_periods_per_run),\n",
    "    'N': monte_carlo_runs,\n",
    "    'M': params\n",
    "})"
   ]
  },
  {
   "cell_type": "code",
   "execution_count": 8,
   "metadata": {},
   "outputs": [],
   "source": [
    "from cadCAD.configuration import append_configs\n",
    "# # # # # # # # # # # # # # # # # # # # # # # # # # # # # # # # # # # # # # # # # # # # # # # #\n",
    "# The configurations above are then packaged into a `Configuration` object\n",
    "append_configs(\n",
    "    initial_state=initial_conditions, #dict containing variable names and initial values\n",
    "    partial_state_update_blocks=partial_state_update_blocks, #dict containing state update functions\n",
    "    sim_configs=simulation_parameters #dict containing simulation parameters\n",
    ")\n",
    "from tabulate import tabulate\n",
    "from cadCAD.engine import ExecutionMode, ExecutionContext, Executor\n",
    "from cadCAD import configs\n",
    "import pandas as pd\n",
    "\n",
    "exec_mode = ExecutionMode()\n",
    "multi_proc_ctx = ExecutionContext(context=exec_mode.multi_proc)\n",
    "run = Executor(exec_context=multi_proc_ctx, configs=configs)"
   ]
  },
  {
   "cell_type": "code",
   "execution_count": null,
   "metadata": {},
   "outputs": [],
   "source": [
    "i = 0\n",
    "verbose = False\n",
    "results = {}\n",
    "for raw_result, tensor_field in run.execute():\n",
    "    result = pd.DataFrame(raw_result)\n",
    "    if verbose:\n",
    "        print()\n",
    "        print(f\"Tensor Field: {type(tensor_field)}\")\n",
    "        print(tabulate(tensor_field, headers='keys', tablefmt='psql'))\n",
    "        print(f\"Output: {type(result)}\")\n",
    "        print(tabulate(result, headers='keys', tablefmt='psql'))\n",
    "        print()\n",
    "    results[i] = {}\n",
    "    results[i]['result'] = result\n",
    "    results[i]['simulation_parameters'] = simulation_parameters[i]\n",
    "    i += 1"
   ]
  }
 ],
 "metadata": {
  "kernelspec": {
   "display_name": "Python 3",
   "language": "python",
   "name": "python3"
  },
  "language_info": {
   "codemirror_mode": {
    "name": "ipython",
    "version": 3
   },
   "file_extension": ".py",
   "mimetype": "text/x-python",
   "name": "python",
   "nbconvert_exporter": "python",
   "pygments_lexer": "ipython3",
   "version": "3.6.5"
  }
 },
 "nbformat": 4,
 "nbformat_minor": 2
}
