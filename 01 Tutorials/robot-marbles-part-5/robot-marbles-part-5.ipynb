{
 "cells": [
  {
   "cell_type": "markdown",
   "metadata": {},
   "source": [
    "# cadCAD Tutorials: The Robot and the Marbles Part 5 - Networks\n",
    "\n",
    "To expand upon our previous examples, we will introduce the concept of using a graph network object that is updated during each state update. The ability to essential embed a graph 'database' into a state is a game changer for scalability, allowing increased complexity with multiple agents or components is represented, easily updated. Below, building upon our previous examples, we will represent the Robots and Marbles example with n boxes, and a variable number of marbles. \n",
    "\n",
    "## Behavior and Mechanisms:\n",
    "* A network of robotic arms is capable of taking a marble from their one of their boxes and dropping it into the other one. \n",
    "* Each robotic arm in the network only controls two boxes and they act by moving a marble from one box to the other.\n",
    "* Each robotic arm is programmed to take one marble at a time from the box containing the most significant number of marbles and drop it in the other box. It repeats that process until the boxes contain an equal number of marbles.\n",
    "* For our analysis of this system, suppose we are only interested in monitoring the number of marbles in only their two boxes."
   ]
  },
  {
   "cell_type": "code",
   "execution_count": 1,
   "metadata": {},
   "outputs": [],
   "source": [
    "from cadCAD.engine import ExecutionMode, ExecutionContext, Executor\n",
    "from cadCAD.configuration import Configuration\n",
    "import networkx as nx\n",
    "import matplotlib.pyplot as plt\n",
    "import numpy as np\n",
    "import pandas as pd\n",
    "%matplotlib inline\n",
    "\n",
    "# define global variables\n",
    "scale=200 # for plotting\n",
    "T = 25 #iterations in our simulation\n",
    "boxes=5 #number of boxes in our network\n",
    "m= 2 #for barabasi graph type number of edges is (n-2)*m"
   ]
  },
  {
   "cell_type": "markdown",
   "metadata": {},
   "source": [
    "We create a [Barabási–Albert](https://en.wikipedia.org/wiki/Barab%C3%A1si%E2%80%93Albert_model) graph and then fill the 5 boxes with between 1 and 10 balls. You can create as many different nodes or types of nodes as needed"
   ]
  },
  {
   "cell_type": "code",
   "execution_count": 2,
   "metadata": {},
   "outputs": [],
   "source": [
    "# create graph object with the number of boxes as nodes\n",
    "network = nx.barabasi_albert_graph(boxes, m)\n",
    "\n",
    "# add balls to box nodes\n",
    "for node in network.nodes:\n",
    "    #network.nodes[node]['type']= \"Number of Balls in Box\"\n",
    "    network.nodes[node]['balls'] = np.random.randint(1,10)"
   ]
  },
  {
   "cell_type": "code",
   "execution_count": 3,
   "metadata": {},
   "outputs": [],
   "source": [
    "nx.write_gpickle(network, 'network.pickle')"
   ]
  },
  {
   "cell_type": "markdown",
   "metadata": {},
   "source": [
    "Now we will plot the network of boxes and with their labels showing how many balls are in each box."
   ]
  },
  {
   "cell_type": "code",
   "execution_count": 4,
   "metadata": {},
   "outputs": [
    {
     "data": {
      "image/png": "[encoded data removed]",
      "text/plain": [
       "<Figure size 432x288 with 1 Axes>"
      ]
     },
     "metadata": {},
     "output_type": "display_data"
    }
   ],
   "source": [
    "# plot of boxes and balls\n",
    "nx.draw_kamada_kawai(network,labels=nx.get_node_attributes(network,'balls'))"
   ]
  },
  {
   "cell_type": "code",
   "execution_count": 5,
   "metadata": {},
   "outputs": [],
   "source": [
    "# we initialize the cadCAD state as a network object\n",
    "initial_conditions = {'network':'network.pickle'}"
   ]
  },
  {
   "cell_type": "code",
   "execution_count": 6,
   "metadata": {},
   "outputs": [],
   "source": [
    "#Behavior: node by edge dimensional operator\n",
    "#input the states of the boxes output the deltas along the edges\n",
    "\n",
    "# We specify the robotic networks logic in a Policy/Behavior Function\n",
    "# unlike previous examples our policy controls a vector valued action, defined over the edges of our network\n",
    "def robotic_network(params, step, sL, s):\n",
    "    network = nx.read_gpickle(s['network'])\n",
    "    delta_balls = {}\n",
    "    for e in network.edges:\n",
    "        src = e[0]\n",
    "        dst = e[1]\n",
    "        #transfer one ball across the edge in the direction of more balls to less\n",
    "        delta_balls[e] = np.sign(network.nodes[src]['balls']-network.nodes[dst]['balls'])\n",
    "    return({'delta': delta_balls})"
   ]
  },
  {
   "cell_type": "code",
   "execution_count": 7,
   "metadata": {},
   "outputs": [],
   "source": [
    "#mechanism: edge by node dimensional operator\n",
    "#input the deltas along the edges and update the boxes\n",
    "\n",
    "# We make the state update functions less \"intelligent\",\n",
    "# ie. they simply add the number of marbles specified in _input \n",
    "# (which, per the policy function definition, may be negative)\n",
    "\n",
    "def update_network(params, step, sL, s, _input):\n",
    "    network = nx.read_gpickle(s['network'])\n",
    "    delta_balls = _input['delta']\n",
    "    for e in network.edges:\n",
    "        move_ball = delta_balls[e]\n",
    "        src = e[0]\n",
    "        dst = e[1]\n",
    "        if (network.nodes[src]['balls'] >= move_ball) and (network.nodes[dst]['balls'] >= -move_ball):\n",
    "            network.nodes[src]['balls'] = network.nodes[src]['balls']-move_ball\n",
    "            network.nodes[dst]['balls'] = network.nodes[dst]['balls']+move_ball\n",
    "    path = str(hash(network))+'.pickle'\n",
    "    nx.write_gpickle(network, path)        \n",
    "    return ('network', path)"
   ]
  },
  {
   "cell_type": "code",
   "execution_count": 8,
   "metadata": {},
   "outputs": [],
   "source": [
    "# wire up the mechanisms and states\n",
    "partial_state_update_blocks = [\n",
    "    { \n",
    "        'policies': { # The following policy functions will be evaluated and their returns will be passed to the state update functions\n",
    "            'action': robotic_network\n",
    "        },\n",
    "        'variables': { # The following state variables will be updated simultaneously\n",
    "            'network': update_network\n",
    "            \n",
    "        }\n",
    "    }\n",
    "]"
   ]
  },
  {
   "cell_type": "code",
   "execution_count": 9,
   "metadata": {},
   "outputs": [],
   "source": [
    "# Settings of general simulation parameters, unrelated to the system itself\n",
    "# `T` is a range with the number of discrete units of time the simulation will run for;\n",
    "# `N` is the number of times the simulation will be run (Monte Carlo runs)\n",
    "simulation_parameters = {\n",
    "    'T': range(T),\n",
    "    'N': 1,\n",
    "    'M': {}\n",
    "}"
   ]
  },
  {
   "cell_type": "code",
   "execution_count": 10,
   "metadata": {},
   "outputs": [],
   "source": [
    "# The configurations above are then packaged into a `Configuration` object\n",
    "config = Configuration(initial_state=initial_conditions, #dict containing variable names and initial values\n",
    "                       partial_state_update_blocks=partial_state_update_blocks, #dict containing state update functions\n",
    "                       sim_config=simulation_parameters #dict containing simulation parameters\n",
    "                      )"
   ]
  },
  {
   "cell_type": "code",
   "execution_count": 11,
   "metadata": {},
   "outputs": [
    {
     "name": "stdout",
     "output_type": "stream",
     "text": [
      "single_proc: [<cadCAD.configuration.Configuration object at 0x1158d2e10>]\n",
      "[<cadCAD.configuration.Configuration object at 0x1158d2e10>]\n"
     ]
    }
   ],
   "source": [
    "# Run the simulations\n",
    "exec_mode = ExecutionMode()\n",
    "exec_context = ExecutionContext(exec_mode.single_proc)\n",
    "executor = Executor(exec_context, [config]) # Pass the configuration object inside an array\n",
    "raw_result, tensor = executor.execute() # The `execute()` method returns a tuple; its first elements contains the raw results\n",
    "df = pd.DataFrame(raw_result)"
   ]
  },
  {
   "cell_type": "markdown",
   "metadata": {},
   "source": [
    "We create some helper functions to extract the networkx graph object from the Pandas dataframe and plot it."
   ]
  },
  {
   "cell_type": "code",
   "execution_count": 12,
   "metadata": {},
   "outputs": [],
   "source": [
    "#NetworkX helper functions\n",
    "def get_nodes(g):\n",
    "    return [node for node in g.nodes if g.nodes[node]]\n",
    "\n",
    "\n",
    "def pad(vec, length,fill=True):\n",
    "\n",
    "    if fill:\n",
    "        padded = np.zeros(length,)\n",
    "    else:\n",
    "        padded = np.empty(length,)\n",
    "        padded[:] = np.nan\n",
    "        \n",
    "    for i in range(len(vec)):\n",
    "        padded[i]= vec[i]\n",
    "        \n",
    "    return padded\n",
    "\n",
    "def make2D(key, data, fill=False):\n",
    "    maxL = data[key].apply(len).max()\n",
    "    newkey = 'padded_'+key\n",
    "    data[newkey] = data[key].apply(lambda x: pad(x,maxL,fill))\n",
    "    reshaped = np.array([a for a in data[newkey].values])\n",
    "    \n",
    "    return reshaped"
   ]
  },
  {
   "cell_type": "markdown",
   "metadata": {},
   "source": [
    "Using our helper function get_nodes() we pull out the boxes ball quantity and save it to a new dataframe column."
   ]
  },
  {
   "cell_type": "code",
   "execution_count": 13,
   "metadata": {},
   "outputs": [],
   "source": [
    "df['Balls'] = df.network.apply(lambda g: np.array([nx.read_gpickle(g).nodes[j]['balls'] for j in get_nodes(nx.read_gpickle(g))]))"
   ]
  },
  {
   "cell_type": "markdown",
   "metadata": {},
   "source": [
    "Next we will plot the number of balls in each box over the simulation time period. We can see an oscillation occurs never reaching an equilibrium due to the uneven nature of the boxes and balls."
   ]
  },
  {
   "cell_type": "code",
   "execution_count": 14,
   "metadata": {},
   "outputs": [
    {
     "data": {
      "text/plain": [
       "<matplotlib.legend.Legend at 0x1159ea470>"
      ]
     },
     "execution_count": 14,
     "metadata": {},
     "output_type": "execute_result"
    },
    {
     "data": {
      "image/png": "[encoded data removed]",
      "text/plain": [
       "<Figure size 432x288 with 1 Axes>"
      ]
     },
     "metadata": {},
     "output_type": "display_data"
    }
   ],
   "source": [
    "plt.plot(df.timestep,make2D('Balls', df))\n",
    "plt.title('Number of balls in boxes over simulation period')\n",
    "plt.ylabel('Qty')\n",
    "plt.xlabel('iteration')\n",
    "plt.legend(['Box #'+str(node) for node in range(boxes)], ncol = 2)"
   ]
  },
  {
   "cell_type": "markdown",
   "metadata": {},
   "source": [
    "In summary, we created a graph network of boxes and robotic arms to transfer balls between the boxes, striving for an unachievable equilibrium state. The ability to embed a graph, virtually a graph database, into a cadCAD state allows for tremendous scalability and flexibility as a modeling tool.  "
   ]
  },
  {
   "cell_type": "code",
   "execution_count": 15,
   "metadata": {},
   "outputs": [
    {
     "data": {
      "text/html": [
       "<div>\n",
       "<style scoped>\n",
       "    .dataframe tbody tr th:only-of-type {\n",
       "        vertical-align: middle;\n",
       "    }\n",
       "\n",
       "    .dataframe tbody tr th {\n",
       "        vertical-align: top;\n",
       "    }\n",
       "\n",
       "    .dataframe thead th {\n",
       "        text-align: right;\n",
       "    }\n",
       "</style>\n",
       "<table border=\"1\" class=\"dataframe\">\n",
       "  <thead>\n",
       "    <tr style=\"text-align: right;\">\n",
       "      <th></th>\n",
       "      <th>network</th>\n",
       "      <th>run</th>\n",
       "      <th>substep</th>\n",
       "      <th>timestep</th>\n",
       "      <th>Balls</th>\n",
       "      <th>padded_Balls</th>\n",
       "    </tr>\n",
       "  </thead>\n",
       "  <tbody>\n",
       "    <tr>\n",
       "      <th>0</th>\n",
       "      <td>network.pickle</td>\n",
       "      <td>1</td>\n",
       "      <td>0</td>\n",
       "      <td>0</td>\n",
       "      <td>[7, 5, 9, 5, 5]</td>\n",
       "      <td>[7.0, 5.0, 9.0, 5.0, 5.0]</td>\n",
       "    </tr>\n",
       "    <tr>\n",
       "      <th>1</th>\n",
       "      <td>291000212.pickle</td>\n",
       "      <td>1</td>\n",
       "      <td>1</td>\n",
       "      <td>1</td>\n",
       "      <td>[6, 6, 5, 8, 6]</td>\n",
       "      <td>[6.0, 6.0, 5.0, 8.0, 6.0]</td>\n",
       "    </tr>\n",
       "    <tr>\n",
       "      <th>2</th>\n",
       "      <td>-9223372036563775600.pickle</td>\n",
       "      <td>1</td>\n",
       "      <td>1</td>\n",
       "      <td>2</td>\n",
       "      <td>[6, 5, 9, 5, 6]</td>\n",
       "      <td>[6.0, 5.0, 9.0, 5.0, 6.0]</td>\n",
       "    </tr>\n",
       "    <tr>\n",
       "      <th>3</th>\n",
       "      <td>291000219.pickle</td>\n",
       "      <td>1</td>\n",
       "      <td>1</td>\n",
       "      <td>3</td>\n",
       "      <td>[6, 6, 5, 8, 6]</td>\n",
       "      <td>[6.0, 6.0, 5.0, 8.0, 6.0]</td>\n",
       "    </tr>\n",
       "    <tr>\n",
       "      <th>4</th>\n",
       "      <td>291000205.pickle</td>\n",
       "      <td>1</td>\n",
       "      <td>1</td>\n",
       "      <td>4</td>\n",
       "      <td>[6, 6, 5, 8, 6]</td>\n",
       "      <td>[6.0, 6.0, 5.0, 8.0, 6.0]</td>\n",
       "    </tr>\n",
       "    <tr>\n",
       "      <th>5</th>\n",
       "      <td>-9223372036563775607.pickle</td>\n",
       "      <td>1</td>\n",
       "      <td>1</td>\n",
       "      <td>5</td>\n",
       "      <td>[6, 5, 9, 5, 6]</td>\n",
       "      <td>[6.0, 5.0, 9.0, 5.0, 6.0]</td>\n",
       "    </tr>\n",
       "    <tr>\n",
       "      <th>6</th>\n",
       "      <td>-9223372036563775586.pickle</td>\n",
       "      <td>1</td>\n",
       "      <td>1</td>\n",
       "      <td>6</td>\n",
       "      <td>[6, 6, 5, 8, 6]</td>\n",
       "      <td>[6.0, 6.0, 5.0, 8.0, 6.0]</td>\n",
       "    </tr>\n",
       "    <tr>\n",
       "      <th>7</th>\n",
       "      <td>291000226.pickle</td>\n",
       "      <td>1</td>\n",
       "      <td>1</td>\n",
       "      <td>7</td>\n",
       "      <td>[6, 6, 5, 8, 6]</td>\n",
       "      <td>[6.0, 6.0, 5.0, 8.0, 6.0]</td>\n",
       "    </tr>\n",
       "    <tr>\n",
       "      <th>8</th>\n",
       "      <td>291000240.pickle</td>\n",
       "      <td>1</td>\n",
       "      <td>1</td>\n",
       "      <td>8</td>\n",
       "      <td>[6, 5, 9, 5, 6]</td>\n",
       "      <td>[6.0, 5.0, 9.0, 5.0, 6.0]</td>\n",
       "    </tr>\n",
       "    <tr>\n",
       "      <th>9</th>\n",
       "      <td>-9223372036563775558.pickle</td>\n",
       "      <td>1</td>\n",
       "      <td>1</td>\n",
       "      <td>9</td>\n",
       "      <td>[6, 6, 5, 8, 6]</td>\n",
       "      <td>[6.0, 6.0, 5.0, 8.0, 6.0]</td>\n",
       "    </tr>\n",
       "    <tr>\n",
       "      <th>10</th>\n",
       "      <td>-9223372036563775572.pickle</td>\n",
       "      <td>1</td>\n",
       "      <td>1</td>\n",
       "      <td>10</td>\n",
       "      <td>[6, 5, 9, 5, 6]</td>\n",
       "      <td>[6.0, 5.0, 9.0, 5.0, 6.0]</td>\n",
       "    </tr>\n",
       "    <tr>\n",
       "      <th>11</th>\n",
       "      <td>-9223372036563775593.pickle</td>\n",
       "      <td>1</td>\n",
       "      <td>1</td>\n",
       "      <td>11</td>\n",
       "      <td>[6, 5, 9, 5, 6]</td>\n",
       "      <td>[6.0, 5.0, 9.0, 5.0, 6.0]</td>\n",
       "    </tr>\n",
       "    <tr>\n",
       "      <th>12</th>\n",
       "      <td>291000212.pickle</td>\n",
       "      <td>1</td>\n",
       "      <td>1</td>\n",
       "      <td>12</td>\n",
       "      <td>[6, 6, 5, 8, 6]</td>\n",
       "      <td>[6.0, 6.0, 5.0, 8.0, 6.0]</td>\n",
       "    </tr>\n",
       "    <tr>\n",
       "      <th>13</th>\n",
       "      <td>-9223372036563775600.pickle</td>\n",
       "      <td>1</td>\n",
       "      <td>1</td>\n",
       "      <td>13</td>\n",
       "      <td>[6, 5, 9, 5, 6]</td>\n",
       "      <td>[6.0, 5.0, 9.0, 5.0, 6.0]</td>\n",
       "    </tr>\n",
       "    <tr>\n",
       "      <th>14</th>\n",
       "      <td>291000219.pickle</td>\n",
       "      <td>1</td>\n",
       "      <td>1</td>\n",
       "      <td>14</td>\n",
       "      <td>[6, 6, 5, 8, 6]</td>\n",
       "      <td>[6.0, 6.0, 5.0, 8.0, 6.0]</td>\n",
       "    </tr>\n",
       "    <tr>\n",
       "      <th>15</th>\n",
       "      <td>291000205.pickle</td>\n",
       "      <td>1</td>\n",
       "      <td>1</td>\n",
       "      <td>15</td>\n",
       "      <td>[6, 6, 5, 8, 6]</td>\n",
       "      <td>[6.0, 6.0, 5.0, 8.0, 6.0]</td>\n",
       "    </tr>\n",
       "    <tr>\n",
       "      <th>16</th>\n",
       "      <td>-9223372036563775607.pickle</td>\n",
       "      <td>1</td>\n",
       "      <td>1</td>\n",
       "      <td>16</td>\n",
       "      <td>[6, 5, 9, 5, 6]</td>\n",
       "      <td>[6.0, 5.0, 9.0, 5.0, 6.0]</td>\n",
       "    </tr>\n",
       "    <tr>\n",
       "      <th>17</th>\n",
       "      <td>-9223372036563775586.pickle</td>\n",
       "      <td>1</td>\n",
       "      <td>1</td>\n",
       "      <td>17</td>\n",
       "      <td>[6, 6, 5, 8, 6]</td>\n",
       "      <td>[6.0, 6.0, 5.0, 8.0, 6.0]</td>\n",
       "    </tr>\n",
       "    <tr>\n",
       "      <th>18</th>\n",
       "      <td>291000254.pickle</td>\n",
       "      <td>1</td>\n",
       "      <td>1</td>\n",
       "      <td>18</td>\n",
       "      <td>[6, 5, 9, 5, 6]</td>\n",
       "      <td>[6.0, 5.0, 9.0, 5.0, 6.0]</td>\n",
       "    </tr>\n",
       "    <tr>\n",
       "      <th>19</th>\n",
       "      <td>-9223372036563775579.pickle</td>\n",
       "      <td>1</td>\n",
       "      <td>1</td>\n",
       "      <td>19</td>\n",
       "      <td>[6, 6, 5, 8, 6]</td>\n",
       "      <td>[6.0, 6.0, 5.0, 8.0, 6.0]</td>\n",
       "    </tr>\n",
       "    <tr>\n",
       "      <th>20</th>\n",
       "      <td>291000233.pickle</td>\n",
       "      <td>1</td>\n",
       "      <td>1</td>\n",
       "      <td>20</td>\n",
       "      <td>[6, 5, 9, 5, 6]</td>\n",
       "      <td>[6.0, 5.0, 9.0, 5.0, 6.0]</td>\n",
       "    </tr>\n",
       "    <tr>\n",
       "      <th>21</th>\n",
       "      <td>291000247.pickle</td>\n",
       "      <td>1</td>\n",
       "      <td>1</td>\n",
       "      <td>21</td>\n",
       "      <td>[6, 6, 5, 8, 6]</td>\n",
       "      <td>[6.0, 6.0, 5.0, 8.0, 6.0]</td>\n",
       "    </tr>\n",
       "    <tr>\n",
       "      <th>22</th>\n",
       "      <td>-9223372036563775593.pickle</td>\n",
       "      <td>1</td>\n",
       "      <td>1</td>\n",
       "      <td>22</td>\n",
       "      <td>[6, 5, 9, 5, 6]</td>\n",
       "      <td>[6.0, 5.0, 9.0, 5.0, 6.0]</td>\n",
       "    </tr>\n",
       "    <tr>\n",
       "      <th>23</th>\n",
       "      <td>291000212.pickle</td>\n",
       "      <td>1</td>\n",
       "      <td>1</td>\n",
       "      <td>23</td>\n",
       "      <td>[6, 6, 5, 8, 6]</td>\n",
       "      <td>[6.0, 6.0, 5.0, 8.0, 6.0]</td>\n",
       "    </tr>\n",
       "    <tr>\n",
       "      <th>24</th>\n",
       "      <td>-9223372036563775600.pickle</td>\n",
       "      <td>1</td>\n",
       "      <td>1</td>\n",
       "      <td>24</td>\n",
       "      <td>[6, 5, 9, 5, 6]</td>\n",
       "      <td>[6.0, 5.0, 9.0, 5.0, 6.0]</td>\n",
       "    </tr>\n",
       "    <tr>\n",
       "      <th>25</th>\n",
       "      <td>291000219.pickle</td>\n",
       "      <td>1</td>\n",
       "      <td>1</td>\n",
       "      <td>25</td>\n",
       "      <td>[6, 6, 5, 8, 6]</td>\n",
       "      <td>[6.0, 6.0, 5.0, 8.0, 6.0]</td>\n",
       "    </tr>\n",
       "  </tbody>\n",
       "</table>\n",
       "</div>"
      ],
      "text/plain": [
       "                        network  run  substep  timestep            Balls  \\\n",
       "0                network.pickle    1        0         0  [7, 5, 9, 5, 5]   \n",
       "1              291000212.pickle    1        1         1  [6, 6, 5, 8, 6]   \n",
       "2   -9223372036563775600.pickle    1        1         2  [6, 5, 9, 5, 6]   \n",
       "3              291000219.pickle    1        1         3  [6, 6, 5, 8, 6]   \n",
       "4              291000205.pickle    1        1         4  [6, 6, 5, 8, 6]   \n",
       "5   -9223372036563775607.pickle    1        1         5  [6, 5, 9, 5, 6]   \n",
       "6   -9223372036563775586.pickle    1        1         6  [6, 6, 5, 8, 6]   \n",
       "7              291000226.pickle    1        1         7  [6, 6, 5, 8, 6]   \n",
       "8              291000240.pickle    1        1         8  [6, 5, 9, 5, 6]   \n",
       "9   -9223372036563775558.pickle    1        1         9  [6, 6, 5, 8, 6]   \n",
       "10  -9223372036563775572.pickle    1        1        10  [6, 5, 9, 5, 6]   \n",
       "11  -9223372036563775593.pickle    1        1        11  [6, 5, 9, 5, 6]   \n",
       "12             291000212.pickle    1        1        12  [6, 6, 5, 8, 6]   \n",
       "13  -9223372036563775600.pickle    1        1        13  [6, 5, 9, 5, 6]   \n",
       "14             291000219.pickle    1        1        14  [6, 6, 5, 8, 6]   \n",
       "15             291000205.pickle    1        1        15  [6, 6, 5, 8, 6]   \n",
       "16  -9223372036563775607.pickle    1        1        16  [6, 5, 9, 5, 6]   \n",
       "17  -9223372036563775586.pickle    1        1        17  [6, 6, 5, 8, 6]   \n",
       "18             291000254.pickle    1        1        18  [6, 5, 9, 5, 6]   \n",
       "19  -9223372036563775579.pickle    1        1        19  [6, 6, 5, 8, 6]   \n",
       "20             291000233.pickle    1        1        20  [6, 5, 9, 5, 6]   \n",
       "21             291000247.pickle    1        1        21  [6, 6, 5, 8, 6]   \n",
       "22  -9223372036563775593.pickle    1        1        22  [6, 5, 9, 5, 6]   \n",
       "23             291000212.pickle    1        1        23  [6, 6, 5, 8, 6]   \n",
       "24  -9223372036563775600.pickle    1        1        24  [6, 5, 9, 5, 6]   \n",
       "25             291000219.pickle    1        1        25  [6, 6, 5, 8, 6]   \n",
       "\n",
       "                 padded_Balls  \n",
       "0   [7.0, 5.0, 9.0, 5.0, 5.0]  \n",
       "1   [6.0, 6.0, 5.0, 8.0, 6.0]  \n",
       "2   [6.0, 5.0, 9.0, 5.0, 6.0]  \n",
       "3   [6.0, 6.0, 5.0, 8.0, 6.0]  \n",
       "4   [6.0, 6.0, 5.0, 8.0, 6.0]  \n",
       "5   [6.0, 5.0, 9.0, 5.0, 6.0]  \n",
       "6   [6.0, 6.0, 5.0, 8.0, 6.0]  \n",
       "7   [6.0, 6.0, 5.0, 8.0, 6.0]  \n",
       "8   [6.0, 5.0, 9.0, 5.0, 6.0]  \n",
       "9   [6.0, 6.0, 5.0, 8.0, 6.0]  \n",
       "10  [6.0, 5.0, 9.0, 5.0, 6.0]  \n",
       "11  [6.0, 5.0, 9.0, 5.0, 6.0]  \n",
       "12  [6.0, 6.0, 5.0, 8.0, 6.0]  \n",
       "13  [6.0, 5.0, 9.0, 5.0, 6.0]  \n",
       "14  [6.0, 6.0, 5.0, 8.0, 6.0]  \n",
       "15  [6.0, 6.0, 5.0, 8.0, 6.0]  \n",
       "16  [6.0, 5.0, 9.0, 5.0, 6.0]  \n",
       "17  [6.0, 6.0, 5.0, 8.0, 6.0]  \n",
       "18  [6.0, 5.0, 9.0, 5.0, 6.0]  \n",
       "19  [6.0, 6.0, 5.0, 8.0, 6.0]  \n",
       "20  [6.0, 5.0, 9.0, 5.0, 6.0]  \n",
       "21  [6.0, 6.0, 5.0, 8.0, 6.0]  \n",
       "22  [6.0, 5.0, 9.0, 5.0, 6.0]  \n",
       "23  [6.0, 6.0, 5.0, 8.0, 6.0]  \n",
       "24  [6.0, 5.0, 9.0, 5.0, 6.0]  \n",
       "25  [6.0, 6.0, 5.0, 8.0, 6.0]  "
      ]
     },
     "execution_count": 15,
     "metadata": {},
     "output_type": "execute_result"
    }
   ],
   "source": [
    "df"
   ]
  },
  {
   "cell_type": "code",
   "execution_count": null,
   "metadata": {},
   "outputs": [],
   "source": []
  }
 ],
 "metadata": {
  "kernelspec": {
   "display_name": "Python 3",
   "language": "python",
   "name": "python3"
  },
  "language_info": {
   "codemirror_mode": {
    "name": "ipython",
    "version": 3
   },
   "file_extension": ".py",
   "mimetype": "text/x-python",
   "name": "python",
   "nbconvert_exporter": "python",
   "pygments_lexer": "ipython3",
   "version": "3.6.5"
  }
 },
 "nbformat": 4,
 "nbformat_minor": 2
}
